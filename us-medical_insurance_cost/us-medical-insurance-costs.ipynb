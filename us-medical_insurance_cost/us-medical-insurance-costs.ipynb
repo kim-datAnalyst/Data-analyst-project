{
 "cells": [
  {
   "cell_type": "markdown",
   "metadata": {},
   "source": [
    "# U.S. Medical Insurance Costs"
   ]
  },
  {
   "cell_type": "code",
   "execution_count": 265,
   "metadata": {},
   "outputs": [],
   "source": [
    "import csv"
   ]
  },
  {
   "cell_type": "markdown",
   "metadata": {},
   "source": [
    "First, we have to store these data in each category to work more easily."
   ]
  },
  {
   "cell_type": "code",
   "execution_count": 293,
   "metadata": {
    "scrolled": true
   },
   "outputs": [
    {
     "name": "stdout",
     "output_type": "stream",
     "text": [
      "['0', '1', '3', '0', '0', '0', '1', '3', '2', '0', '0', '0', '0', '0', '0', '1', '1', '0', '0', '0', '0', '1', '0', '1', '2', '3', '0', '2', '1', '2', '0', '0', '5', '0', '1', '0', '3', '0', '1', '0', '0', '2', '1', '2', '1', '0', '2', '0', '0', '1', '0', '2', '1', '0', '3', '2', '2', '2', '1', '2', '3', '4', '1', '1', '0', '0', '2', '1', '0', '3', '0', '5', '3', '1', '2', '0', '1', '0', '0', '0', '1', '0', '1', '4', '2', '2', '0', '0', '0', '0', '0', '1', '3', '2', '2', '1', '3', '0', '0', '0', '0', '0', '0', '3', '1', '1', '1', '2', '0', '0', '1', '2', '0', '0', '3', '0', '0', '1', '0', '2', '2', '0', '0', '1', '3', '0', '0', '0', '2', '2', '0', '0', '2', '0', '0', '0', '0', '0', '3', '0', '2', '1', '2', '2', '3', '3', '3', '1', '1', '1', '1', '0', '3', '0', '1', '0', '0', '0', '0', '3', '0', '0', '1', '2', '0', '4', '5', '3', '1', '3', '0', '0', '0', '1', '0', '0', '2', '1', '2', '3', '0', '0', '3', '0', '2', '3', '2', '3', '1', '2', '0', '0', '0', '1', '0', '0', '0', '2', '0', '0', '0', '1', '0', '0', '0', '1', '0', '2', '0', '1', '1', '4', '2', '1', '2', '2', '0', '0', '1', '0', '1', '0', '3', '0', '0', '3', '0', '0', '1', '2', '1', '3', '0', '1', '2', '2', '0', '2', '0', '1', '2', '1', '1', '3', '0', '0', '0', '0', '1', '1', '2', '2', '2', '3', '0', '3', '0', '0', '4', '0', '0', '1', '3', '0', '3', '3', '1', '3', '1', '1', '1', '2', '2', '1', '0', '2', '2', '0', '2', '1', '1', '3', '1', '1', '0', '1', '2', '0', '1', '3', '0', '1', '2', '0', '3', '0', '0', '1', '3', '1', '3', '3', '2', '2', '2', '2', '2', '1', '0', '2', '0', '0', '3', '0', '0', '0', '0', '0', '0', '1', '1', '4', '0', '0', '0', '1', '1', '2', '1', '0', '1', '0', '0', '0', '2', '0', '0', '1', '1', '1', '0', '0', '0', '0', '4', '3', '2', '1', '1', '0', '0', '0', '0', '0', '0', '0', '3', '3', '0', '0', '2', '1', '0', '1', '2', '1', '3', '2', '2', '3', '0', '0', '1', '2', '0', '0', '3', '0', '3', '1', '2', '0', '0', '2', '2', '0', '0', '2', '0', '3', '4', '0', '1', '1', '2', '0', '3', '0', '2', '0', '0', '1', '0', '3', '0', '2', '0', '1', '3', '1', '0', '1', '2', '5', '0', '1', '0', '2', '1', '0', '0', '0', '1', '0', '2', '5', '1', '0', '1', '3', '0', '2', '0', '0', '1', '3', '0', '3', '5', '0', '1', '0', '0', '1', '1', '0', '0', '0', '0', '1', '4', '1', '0', '0', '2', '0', '2', '0', '0', '3', '3', '0', '2', '0', '0', '1', '1', '2', '1', '1', '0', '0', '0', '0', '3', '1', '0', '0', '0', '0', '3', '2', '0', '1', '3', '0', '3', '0', '0', '1', '0', '0', '0', '0', '4', '0', '2', '2', '2', '0', '0', '0', '1', '0', '1', '3', '1', '2', '0', '0', '1', '0', '0', '0', '1', '0', '1', '2', '1', '0', '0', '0', '0', '0', '1', '0', '2', '1', '1', '0', '1', '0', '2', '0', '0', '1', '3', '2', '1', '0', '3', '2', '0', '0', '0', '2', '0', '2', '0', '0', '0', '0', '0', '2', '0', '2', '1', '0', '3', '0', '2', '0', '0', '1', '2', '0', '1', '2', '5', '2', '0', '1', '2', '1', '2', '0', '0', '1', '1', '0', '1', '0', '2', '1', '0', '1', '3', '1', '0', '1', '0', '1', '2', '1', '0', '1', '2', '1', '2', '2', '0', '0', '0', '3', '0', '0', '0', '0', '2', '2', '1', '2', '0', '3', '0', '1', '0', '2', '0', '0', '1', '4', '1', '0', '0', '0', '3', '1', '0', '0', '1', '0', '0', '2', '1', '0', '1', '2', '0', '4', '5', '3', '0', '3', '2', '3', '1', '3', '0', '0', '2', '1', '0', '2', '0', '2', '1', '2', '1', '4', '3', '1', '1', '0', '0', '2', '1', '2', '0', '1', '3', '0', '0', '0', '2', '0', '3', '3', '3', '2', '1', '0', '2', '0', '1', '2', '2', '0', '1', '1', '0', '1', '1', '0', '1', '0', '2', '1', '0', '2', '0', '0', '0', '1', '1', '2', '0', '3', '3', '0', '1', '2', '2', '0', '0', '0', '1', '1', '2', '0', '0', '3', '0', '0', '1', '3', '1', '1', '0', '1', '3', '1', '3', '1', '3', '1', '0', '2', '3', '2', '2', '0', '0', '0', '0', '1', '2', '0', '1', '0', '0', '0', '0', '0', '4', '2', '3', '0', '3', '0', '2', '1', '1', '0', '2', '0', '1', '1', '0', '2', '3', '2', '0', '0', '2', '3', '2', '0', '3', '0', '3', '0', '1', '1', '1', '3', '0', '0', '3', '0', '0', '0', '0', '0', '2', '0', '2', '1', '0', '0', '1', '0', '1', '0', '0', '0', '1', '0', '0', '1', '3', '3', '2', '2', '2', '0', '0', '3', '1', '0', '1', '0', '0', '2', '0', '2', '2', '1', '3', '1', '0', '0', '2', '0', '1', '2', '0', '0', '2', '0', '0', '0', '2', '0', '0', '0', '1', '1', '0', '0', '0', '2', '0', '2', '3', '0', '0', '0', '1', '0', '2', '3', '2', '0', '0', '2', '0', '1', '0', '3', '0', '1', '0', '1', '3', '0', '1', '5', '1', '2', '3', '1', '0', '3', '4', '1', '0', '0', '0', '1', '0', '4', '0', '2', '0', '0', '2', '1', '0', '0', '0', '0', '3', '0', '0', '2', '3', '1', '3', '0', '1', '0', '3', '1', '2', '0', '0', '0', '0', '1', '0', '0', '1', '0', '0', '2', '2', '1', '0', '1', '1', '1', '5', '0', '2', '0', '2', '5', '2', '0', '0', '1', '0', '0', '0', '1', '2', '1', '0', '3', '0', '2', '1', '2', '1', '1', '1', '1', '1', '1', '1', '0', '1', '3', '2', '1', '2', '1', '2', '5', '3', '0', '0', '0', '0', '0', '0', '1', '3', '0', '1', '0', '3', '1', '5', '1', '3', '1', '0', '0', '1', '2', '2', '1', '3', '3', '3', '0', '3', '0', '2', '0', '0', '0', '1', '2', '2', '3', '2', '1', '0', '2', '4', '1', '0', '0', '1', '2', '3', '2', '0', '3', '1', '1', '1', '0', '1', '0', '0', '2', '1', '0', '0', '0', '0', '3', '2', '1', '0', '2', '0', '0', '0', '0', '1', '2', '0', '1', '1', '0', '1', '0', '1', '3', '0', '0', '0', '0', '0', '1', '0', '1', '1', '3', '4', '1', '2', '0', '1', '1', '1', '0', '0', '2', '0', '1', '1', '0', '0', '3', '2', '1', '1', '1', '2', '5', '0', '0', '1', '0', '0', '0', '3', '0', '4', '4', '2', '0', '0', '1', '2', '3', '1', '0', '0', '0', '0', '2', '1', '3', '1', '3', '3', '3', '0', '1', '5', '2', '1', '3', '0', '2', '3', '1', '1', '0', '0', '2', '1', '0', '5', '2', '0', '0', '0', '3', '1', '0', '0', '0', '1', '3', '0', '2', '2', '3', '0', '0', '1', '0', '0', '0', '3', '1', '4', '3', '0', '2', '0', '0', '1', '2', '1', '0', '1', '0', '0', '2', '2', '1', '1', '2', '0', '2', '2', '0', '1', '1', '0', '0', '1', '0', '0', '1', '1', '2', '3', '0', '1', '0', '2', '1', '1', '0', '0', '3', '0', '0', '1', '2', '2', '2', '0', '1', '3', '1', '2', '2', '1', '1', '1', '2', '0', '2', '1', '0', '0', '2', '1', '3', '1', '2', '0', '0', '1', '1', '2', '2', '0', '0', '3', '0', '3', '0', '2', '0', '0', '0', '3', '1', '2', '2', '3', '0', '0', '5', '3', '4', '0', '1', '0', '0', '0', '4', '0', '0', '3', '1', '3', '0', '0', '1', '1', '1', '2', '0', '0', '0', '0', '3', '1', '0', '5', '1', '0', '0', '0', '0', '1', '2', '0', '2', '0', '1', '1', '0', '0', '1', '2', '1', '2', '0', '0', '3', '0', '1', '0', '2', '2', '1', '0', '3', '1', '0', '2', '0', '0', '4', '0', '2', '1', '0', '1', '2', '3', '1', '0', '0', '4', '2', '3', '0', '0', '2', '1', '0', '0', '1', '2', '2', '2', '0', '3', '3', '0', '0', '0', '0']\n"
     ]
    }
   ],
   "source": [
    "#create each category:\n",
    "ages = []\n",
    "sexs = []\n",
    "bmis = []\n",
    "children = []\n",
    "smokers = []\n",
    "regions = []\n",
    "charges = []\n",
    "insurance_infos_dict = []\n",
    "with open(\"insurance.csv\") as insurance_csv:\n",
    "    insurance_dict_reader = csv.DictReader(insurance_csv)\n",
    "    for insurance_info in insurance_dict_reader:\n",
    "        insurance_infos_dict.append(insurance_info)\n",
    "        ages.append(insurance_info[\"age\"])\n",
    "        sexs.append(insurance_info[\"sex\"])\n",
    "        bmis.append(insurance_info[\"bmi\"])\n",
    "        children.append(insurance_info[\"children\"])\n",
    "        smokers.append(insurance_info[\"smoker\"])\n",
    "        regions.append(insurance_info[\"region\"])\n",
    "        charges.append(insurance_info[\"charges\"])\n",
    "print(children)\n"
   ]
  },
  {
   "cell_type": "markdown",
   "metadata": {},
   "source": [
    "We want to know how many people there are in this data:"
   ]
  },
  {
   "cell_type": "code",
   "execution_count": 267,
   "metadata": {},
   "outputs": [],
   "source": [
    "def total(list_of_sth):\n",
    "    len_data = len(list_of_sth)\n",
    "    return len_data"
   ]
  },
  {
   "cell_type": "code",
   "execution_count": 268,
   "metadata": {},
   "outputs": [
    {
     "name": "stdout",
     "output_type": "stream",
     "text": [
      "1338\n"
     ]
    }
   ],
   "source": [
    "total_people = total(bmis)\n",
    "print(total_people)\n",
    "#the total people in this database are 1338"
   ]
  },
  {
   "cell_type": "markdown",
   "metadata": {},
   "source": [
    "##### Because each data of category correspond to the other so we can choose one to know how many people are in this database "
   ]
  },
  {
   "cell_type": "markdown",
   "metadata": {},
   "source": [
    "In this database, i want to know how many male and female are:"
   ]
  },
  {
   "cell_type": "code",
   "execution_count": 269,
   "metadata": {},
   "outputs": [],
   "source": [
    "#i stand for individual\n",
    "def count_function(list_of_sth, data_of_list):\n",
    "    count = 0\n",
    "    for i in list_of_sth:\n",
    "        if i == data_of_list:\n",
    "            count += 1\n",
    "    return count"
   ]
  },
  {
   "cell_type": "code",
   "execution_count": 270,
   "metadata": {},
   "outputs": [],
   "source": [
    "number_of_male = count_function(sexs, \"male\")\n",
    "#676"
   ]
  },
  {
   "cell_type": "code",
   "execution_count": 271,
   "metadata": {},
   "outputs": [],
   "source": [
    "number_of_female = count_function(sexs, \"female\")\n",
    "#662"
   ]
  },
  {
   "cell_type": "markdown",
   "metadata": {},
   "source": [
    "So as can we see that, there are 676 males and 662 females in this database. But i want to know how many percent the male and the female take up in this database."
   ]
  },
  {
   "cell_type": "code",
   "execution_count": 272,
   "metadata": {},
   "outputs": [],
   "source": [
    "def percent_function(number_of_sth, total):\n",
    "    percent = (number_of_sth/total)\n",
    "    return percent"
   ]
  },
  {
   "cell_type": "code",
   "execution_count": 273,
   "metadata": {},
   "outputs": [
    {
     "data": {
      "text/plain": [
       "0.4947683109118087"
      ]
     },
     "execution_count": 273,
     "metadata": {},
     "output_type": "execute_result"
    }
   ],
   "source": [
    "percent_function(number_of_female,total_people)"
   ]
  },
  {
   "cell_type": "code",
   "execution_count": 274,
   "metadata": {},
   "outputs": [
    {
     "data": {
      "text/plain": [
       "0.5052316890881914"
      ]
     },
     "execution_count": 274,
     "metadata": {},
     "output_type": "execute_result"
    }
   ],
   "source": [
    "percent_function(number_of_male,total_people)"
   ]
  },
  {
   "cell_type": "markdown",
   "metadata": {},
   "source": [
    "#### As a result, the males group (with ~50.52%) take up more than the females group (with ~49.48%): 0.04% "
   ]
  },
  {
   "cell_type": "markdown",
   "metadata": {},
   "source": [
    "Create each stage of ages list:"
   ]
  },
  {
   "cell_type": "code",
   "execution_count": 275,
   "metadata": {},
   "outputs": [
    {
     "name": "stdout",
     "output_type": "stream",
     "text": [
      "['18', '19', '20', '21', '22', '23', '24', '25', '26', '27', '28', '29', '30', '31', '32', '33', '34', '35', '36', '37', '38', '39', '40', '41', '42', '43', '44', '45', '46', '47', '48', '49', '50', '51', '52', '53', '54', '55', '56', '57', '58', '59', '60', '61', '62', '63', '64']\n"
     ]
    }
   ],
   "source": [
    "#But first, we have to know in the ages list how many ages there are:\n",
    "list_of_ages = []\n",
    "for age in ages:\n",
    "    if age not in list_of_ages:\n",
    "        list_of_ages.append(age)\n",
    "list_of_ages.sort()\n",
    "\n",
    "print(list_of_ages)"
   ]
  },
  {
   "cell_type": "markdown",
   "metadata": {},
   "source": [
    "I want to know how many people there are in each of age list in this database. So i will make a dictionary with key is each age and the value are the number of people in each age."
   ]
  },
  {
   "cell_type": "code",
   "execution_count": 276,
   "metadata": {
    "scrolled": true
   },
   "outputs": [
    {
     "name": "stdout",
     "output_type": "stream",
     "text": [
      "{'18': [69, 0.0515695067264574], '19': [68, 0.05082212257100149], '20': [29, 0.021674140508221227], '21': [28, 0.02092675635276532], '22': [28, 0.02092675635276532], '23': [28, 0.02092675635276532], '24': [28, 0.02092675635276532], '25': [28, 0.02092675635276532], '26': [28, 0.02092675635276532], '27': [28, 0.02092675635276532], '28': [28, 0.02092675635276532], '29': [27, 0.020179372197309416], '30': [27, 0.020179372197309416], '31': [27, 0.020179372197309416], '32': [26, 0.01943198804185351], '33': [26, 0.01943198804185351], '34': [26, 0.01943198804185351], '35': [25, 0.01868460388639761], '36': [25, 0.01868460388639761], '37': [25, 0.01868460388639761], '38': [25, 0.01868460388639761], '39': [25, 0.01868460388639761], '40': [27, 0.020179372197309416], '41': [27, 0.020179372197309416], '42': [27, 0.020179372197309416], '43': [27, 0.020179372197309416], '44': [27, 0.020179372197309416], '45': [29, 0.021674140508221227], '46': [29, 0.021674140508221227], '47': [29, 0.021674140508221227], '48': [29, 0.021674140508221227], '49': [28, 0.02092675635276532], '50': [29, 0.021674140508221227], '51': [29, 0.021674140508221227], '52': [29, 0.021674140508221227], '53': [28, 0.02092675635276532], '54': [28, 0.02092675635276532], '55': [26, 0.01943198804185351], '56': [26, 0.01943198804185351], '57': [26, 0.01943198804185351], '58': [25, 0.01868460388639761], '59': [25, 0.01868460388639761], '60': [23, 0.0171898355754858], '61': [23, 0.0171898355754858], '62': [23, 0.0171898355754858], '63': [23, 0.0171898355754858], '64': [22, 0.016442451420029897]}\n"
     ]
    }
   ],
   "source": [
    "info_num_people_of_each_age = {a:[n,p] for a,n,p in zip(list_of_ages,\n",
    "                                                        [count_function(ages,age) for age in list_of_ages],\n",
    "                                                       [percent_function(num,total_people) for num in  [count_function(ages,age) for age in stage_of_ages]])}\n",
    "\n",
    "print(info_num_people_of_each_age)"
   ]
  },
  {
   "cell_type": "markdown",
   "metadata": {},
   "source": [
    "I want to be more specific about these data. I'm going to create a dictionary about a group of ages represented by stage with the key is the name of the stage and the value are lists containing the number of people in that group and the percentage it takes upon the whole."
   ]
  },
  {
   "cell_type": "code",
   "execution_count": 277,
   "metadata": {},
   "outputs": [],
   "source": [
    "def stage_of_age_dic():\n",
    "    info_num_people_of_each_stage = {\"Young Adult\":[0,0], \"Adult\":[0,0], \"Middle Age Adult\":[0,0], \"Senior Adult\":[0,0]}\n",
    "    for k,v in info_num_people_of_each_age.items():\n",
    "        if 18 <= int(k) < 21:\n",
    "            info_num_people_of_each_stage[\"Young Adult\"][0] += v[0]\n",
    "            info_num_people_of_each_stage[\"Young Adult\"][-1] += v[-1]\n",
    "        elif 21 <= int(k) < 40:\n",
    "            info_num_people_of_each_stage[\"Adult\"][0] += v[0]\n",
    "            info_num_people_of_each_stage[\"Adult\"][-1] += v[-1]\n",
    "        elif 40 <= int(k) < 60:\n",
    "            info_num_people_of_each_stage[\"Middle Age Adult\"][0] += v[0]\n",
    "            info_num_people_of_each_stage[\"Middle Age Adult\"][-1] += v[-1]\n",
    "        elif int(k) >= 60:\n",
    "            info_num_people_of_each_stage[\"Senior Adult\"][0] += v[0]\n",
    "            info_num_people_of_each_stage[\"Senior Adult\"][-1] += v[-1]\n",
    "    return info_num_people_of_each_stage"
   ]
  },
  {
   "cell_type": "code",
   "execution_count": 278,
   "metadata": {},
   "outputs": [
    {
     "data": {
      "text/plain": [
       "{'Young Adult': [166, 0.12406576980568013],\n",
       " 'Adult': [508, 0.3796711509715993],\n",
       " 'Middle Age Adult': [550, 0.4110612855007474],\n",
       " 'Senior Adult': [114, 0.08520179372197309]}"
      ]
     },
     "execution_count": 278,
     "metadata": {},
     "output_type": "execute_result"
    }
   ],
   "source": [
    "stage_of_age_dic()"
   ]
  },
  {
   "cell_type": "markdown",
   "metadata": {},
   "source": [
    "Let's move on to the bmis. Based on WHO about BMI, if the bmi < 18.5 -> Underweight. 18.5 - 24.9 -> Healthy Weight; 25 - 29.9: Overweight; 30 and above: Obesity. I'm gonna create a dictionary with the key is the bmis number and the value are lists containing number of people and percentage they take up in whole group of bmis."
   ]
  },
  {
   "cell_type": "code",
   "execution_count": 279,
   "metadata": {},
   "outputs": [],
   "source": [
    "def stage_of_bmis_dic():\n",
    "    each_stage_of_bmis_dic = {\"Underweight\":[0,0], \"Healthy Weight\":[0,0], \"Overweight\":[0,0], \"Obesity\":[0,0]}\n",
    "    for bmi in bmis:\n",
    "        if float(bmi) < 18.5:\n",
    "            each_stage_of_bmis_dic[\"Underweight\"][0] += 1\n",
    "        elif 18.5 <= float(bmi) < 25.0:\n",
    "            each_stage_of_bmis_dic[\"Healthy Weight\"][0] += 1\n",
    "        elif 25.0 <= float(bmi) < 30.0:\n",
    "            each_stage_of_bmis_dic[\"Overweight\"][0] += 1\n",
    "        elif float(bmi) >= 30.0:\n",
    "            each_stage_of_bmis_dic[\"Obesity\"][0] += 1\n",
    "    for key in each_stage_of_bmis_dic.keys():\n",
    "        each_stage_of_bmis_dic[key][-1] += percent_function(each_stage_of_bmis_dic[key][0],len(bmis))\n",
    "    return each_stage_of_bmis_dic"
   ]
  },
  {
   "cell_type": "code",
   "execution_count": 280,
   "metadata": {
    "scrolled": false
   },
   "outputs": [
    {
     "data": {
      "text/plain": [
       "{'Underweight': [20, 0.014947683109118086],\n",
       " 'Healthy Weight': [225, 0.1681614349775785],\n",
       " 'Overweight': [386, 0.2884902840059791],\n",
       " 'Obesity': [707, 0.5284005979073244]}"
      ]
     },
     "execution_count": 280,
     "metadata": {},
     "output_type": "execute_result"
    }
   ],
   "source": [
    "stage_of_bmis_dic()"
   ]
  },
  {
   "cell_type": "markdown",
   "metadata": {},
   "source": [
    "Moving on to children data list. I want to know how many of each person has children and how many children they have. So i will create a dictionary with key is the number represent the number of children the list has and the values are lists containing the number children's each person has and their percentage take up in whole group of children's each person."
   ]
  },
  {
   "cell_type": "code",
   "execution_count": 300,
   "metadata": {},
   "outputs": [],
   "source": [
    "def children_dic():\n",
    "    children_number = []\n",
    "    for num_of_children in children:\n",
    "        if num_of_children not in children_number:\n",
    "            children_number.append(num_of_children)\n",
    "    count_children_dic = {k:v for k,v in zip(children_number, [count_function(children,[c for c in children_number])])}\n",
    "    return count_children_dic                                                           "
   ]
  },
  {
   "cell_type": "code",
   "execution_count": 301,
   "metadata": {},
   "outputs": [
    {
     "data": {
      "text/plain": [
       "{'0': 0}"
      ]
     },
     "execution_count": 301,
     "metadata": {},
     "output_type": "execute_result"
    }
   ],
   "source": [
    "children_dic()"
   ]
  }
 ],
 "metadata": {
  "kernelspec": {
   "display_name": "Python 3 (ipykernel)",
   "language": "python",
   "name": "python3"
  },
  "language_info": {
   "codemirror_mode": {
    "name": "ipython",
    "version": 3
   },
   "file_extension": ".py",
   "mimetype": "text/x-python",
   "name": "python",
   "nbconvert_exporter": "python",
   "pygments_lexer": "ipython3",
   "version": "3.9.7"
  }
 },
 "nbformat": 4,
 "nbformat_minor": 4
}
