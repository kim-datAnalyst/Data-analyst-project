{
 "cells": [
  {
   "cell_type": "markdown",
   "metadata": {},
   "source": [
    "# U.S. Medical Insurance Costs"
   ]
  },
  {
   "cell_type": "code",
   "execution_count": 2,
   "metadata": {},
   "outputs": [],
   "source": [
    "import csv"
   ]
  },
  {
   "cell_type": "markdown",
   "metadata": {},
   "source": [
    "First, we have to store these data in each category to work more easily."
   ]
  },
  {
   "cell_type": "code",
   "execution_count": 3,
   "metadata": {
    "scrolled": true
   },
   "outputs": [
    {
     "ename": "FileNotFoundError",
     "evalue": "[Errno 2] No such file or directory: 'insurance.csv'",
     "output_type": "error",
     "traceback": [
      "\u001b[1;31m---------------------------------------------------------------------------\u001b[0m",
      "\u001b[1;31mFileNotFoundError\u001b[0m                         Traceback (most recent call last)",
      "\u001b[1;32m~\\AppData\\Local\\Temp/ipykernel_1188/3390219857.py\u001b[0m in \u001b[0;36m<module>\u001b[1;34m\u001b[0m\n\u001b[0;32m      8\u001b[0m \u001b[0mcharges\u001b[0m \u001b[1;33m=\u001b[0m \u001b[1;33m[\u001b[0m\u001b[1;33m]\u001b[0m\u001b[1;33m\u001b[0m\u001b[1;33m\u001b[0m\u001b[0m\n\u001b[0;32m      9\u001b[0m \u001b[0minsurance_infos_dict\u001b[0m \u001b[1;33m=\u001b[0m \u001b[1;33m[\u001b[0m\u001b[1;33m]\u001b[0m\u001b[1;33m\u001b[0m\u001b[1;33m\u001b[0m\u001b[0m\n\u001b[1;32m---> 10\u001b[1;33m \u001b[1;32mwith\u001b[0m \u001b[0mopen\u001b[0m\u001b[1;33m(\u001b[0m\u001b[1;34m\"insurance.csv\"\u001b[0m\u001b[1;33m)\u001b[0m \u001b[1;32mas\u001b[0m \u001b[0minsurance_csv\u001b[0m\u001b[1;33m:\u001b[0m\u001b[1;33m\u001b[0m\u001b[1;33m\u001b[0m\u001b[0m\n\u001b[0m\u001b[0;32m     11\u001b[0m     \u001b[0minsurance_dict_reader\u001b[0m \u001b[1;33m=\u001b[0m \u001b[0mcsv\u001b[0m\u001b[1;33m.\u001b[0m\u001b[0mDictReader\u001b[0m\u001b[1;33m(\u001b[0m\u001b[0minsurance_csv\u001b[0m\u001b[1;33m)\u001b[0m\u001b[1;33m\u001b[0m\u001b[1;33m\u001b[0m\u001b[0m\n\u001b[0;32m     12\u001b[0m     \u001b[1;32mfor\u001b[0m \u001b[0minsurance_info\u001b[0m \u001b[1;32min\u001b[0m \u001b[0minsurance_dict_reader\u001b[0m\u001b[1;33m:\u001b[0m\u001b[1;33m\u001b[0m\u001b[1;33m\u001b[0m\u001b[0m\n",
      "\u001b[1;31mFileNotFoundError\u001b[0m: [Errno 2] No such file or directory: 'insurance.csv'"
     ]
    }
   ],
   "source": [
    "#create each category:\n",
    "ages = []\n",
    "sexs = []\n",
    "bmis = []\n",
    "childrens = []\n",
    "smokers = []\n",
    "regions = []\n",
    "charges = []\n",
    "insurance_infos_dict = []\n",
    "with open(\"insurance.csv\") as insurance_csv:\n",
    "    insurance_dict_reader = csv.DictReader(insurance_csv)\n",
    "    for insurance_info in insurance_dict_reader:\n",
    "        insurance_infos_dict.append(insurance_info)\n",
    "        ages.append(insurance_info[\"age\"])\n",
    "        sexs.append(insurance_info[\"sex\"])\n",
    "        bmis.append(insurance_info[\"bmi\"])\n",
    "        childrens.append(insurance_info[\"children\"])\n",
    "        smokers.append(insurance_info[\"smoker\"])\n",
    "        regions.append(insurance_info[\"region\"])\n",
    "        charges.append(insurance_info[\"charges\"])\n",
    "print(insurance_infos_dict)\n"
   ]
  },
  {
   "cell_type": "markdown",
   "metadata": {},
   "source": [
    "We want to know how many people there are in this data:"
   ]
  },
  {
   "cell_type": "code",
   "execution_count": null,
   "metadata": {},
   "outputs": [],
   "source": [
    "def total(list_of_sth):\n",
    "    len_data = len(list_of_sth)\n",
    "    return len_data"
   ]
  },
  {
   "cell_type": "code",
   "execution_count": null,
   "metadata": {},
   "outputs": [],
   "source": [
    "total_people = total(ages)\n",
    "#the total people in this database are 1338"
   ]
  },
  {
   "cell_type": "markdown",
   "metadata": {},
   "source": [
    "##### Because each data of category correspond to the other so we can choose one to know how many people are in this database "
   ]
  },
  {
   "cell_type": "markdown",
   "metadata": {},
   "source": [
    "In this database, i want to know how many male and female are:"
   ]
  },
  {
   "cell_type": "code",
   "execution_count": null,
   "metadata": {},
   "outputs": [],
   "source": [
    "#i stand for individual\n",
    "def count_function(list_of_sth, data_of_list):\n",
    "    count = 0\n",
    "    for i in list_of_sth:\n",
    "        if i == string_data:\n",
    "            count += 1\n",
    "    return count"
   ]
  },
  {
   "cell_type": "code",
   "execution_count": null,
   "metadata": {},
   "outputs": [],
   "source": [
    "number_of_male = count_function(sexs, \"male\")\n",
    "#676"
   ]
  },
  {
   "cell_type": "code",
   "execution_count": null,
   "metadata": {},
   "outputs": [],
   "source": [
    "number_of_female = count_function(sexs, \"female\")\n",
    "#662"
   ]
  },
  {
   "cell_type": "markdown",
   "metadata": {},
   "source": [
    "So as can we see that, there are 676 males and 662 females in this database. But i want to know how many percent the male and the female take up in this database."
   ]
  },
  {
   "cell_type": "code",
   "execution_count": null,
   "metadata": {},
   "outputs": [],
   "source": [
    "def percent_function(number_of_sth, total):\n",
    "    percent = (number_of_sth/total) * 100\n",
    "    return str(percent)+ \" \"+\"%\""
   ]
  },
  {
   "cell_type": "code",
   "execution_count": null,
   "metadata": {},
   "outputs": [],
   "source": [
    "percent_function(number_of_female,total_people)\n"
   ]
  },
  {
   "cell_type": "code",
   "execution_count": null,
   "metadata": {},
   "outputs": [],
   "source": [
    "percent_function(number_of_male,total_people)"
   ]
  },
  {
   "cell_type": "markdown",
   "metadata": {},
   "source": [
    "#### As a result, the males group (with ~50.52%) take up more than the females group (with ~49.48%): 0.04% "
   ]
  },
  {
   "cell_type": "markdown",
   "metadata": {},
   "source": [
    "Based on the data i got from the number of male function, the number of female function and the total people in this database, I want to know how many people who smoke and who don't. And in the smoker group, how many people are female and how many people are male. Also the non-smoker group:"
   ]
  },
  {
   "cell_type": "code",
   "execution_count": null,
   "metadata": {},
   "outputs": [],
   "source": [
    "# firstly, i want to know how many people are smoker:\n",
    "num_of_smokers = count_function(smokers, \"yes\")\n",
    "print(num_of_smokers)"
   ]
  },
  {
   "cell_type": "code",
   "execution_count": null,
   "metadata": {},
   "outputs": [],
   "source": [
    "num_of_non_smokers = total_people - num_of_smokers\n",
    "print(num_of_non_smokers)"
   ]
  },
  {
   "cell_type": "code",
   "execution_count": null,
   "metadata": {},
   "outputs": [],
   "source": [
    "def group_2_category(categoryName1, data_of_category1, categoryName2, data_of_category2):\n",
    "    category1_category2_list = [insurance_info_dict for insurance_info_dict in insurance_infos_dict\n",
    "                        if insurance_info_dict[categoryName1] == data_of_category1 \n",
    "                        and insurance_info_dict[categoryName2] == data_of_category2]\n",
    "    return category1_category2_list"
   ]
  },
  {
   "cell_type": "markdown",
   "metadata": {},
   "source": [
    "Now, i've created a function that can group 2 list. So now i want to know smokers who are female:"
   ]
  },
  {
   "cell_type": "code",
   "execution_count": null,
   "metadata": {},
   "outputs": [],
   "source": [
    "smokers_female = group_2_condition_category(\"smoker\", \"yes\", \"sex\", \"female\")\n",
    "print(smokers_female)"
   ]
  },
  {
   "cell_type": "code",
   "execution_count": null,
   "metadata": {},
   "outputs": [],
   "source": [
    "len_of_data(smokers_female)"
   ]
  },
  {
   "cell_type": "code",
   "execution_count": null,
   "metadata": {
    "scrolled": true
   },
   "outputs": [],
   "source": [
    "smoker_19 = group_2_condition_category(\"smoker\", \"yes\", \"age\", \"19\")\n",
    "print(smoker_19)"
   ]
  },
  {
   "cell_type": "code",
   "execution_count": null,
   "metadata": {},
   "outputs": [],
   "source": [
    "len_of_data(smoker_19)"
   ]
  },
  {
   "cell_type": "code",
   "execution_count": null,
   "metadata": {},
   "outputs": [],
   "source": []
  }
 ],
 "metadata": {
  "kernelspec": {
   "display_name": "Python 3 (ipykernel)",
   "language": "python",
   "name": "python3"
  },
  "language_info": {
   "codemirror_mode": {
    "name": "ipython",
    "version": 3
   },
   "file_extension": ".py",
   "mimetype": "text/x-python",
   "name": "python",
   "nbconvert_exporter": "python",
   "pygments_lexer": "ipython3",
   "version": "3.9.7"
  }
 },
 "nbformat": 4,
 "nbformat_minor": 4
}
